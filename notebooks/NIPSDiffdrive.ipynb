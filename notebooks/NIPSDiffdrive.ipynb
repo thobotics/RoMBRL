{
 "cells": [
  {
   "cell_type": "code",
   "execution_count": 1,
   "metadata": {
    "collapsed": false
   },
   "outputs": [
    {
     "name": "stdout",
     "output_type": "stream",
     "text": [
      "Populating the interactive namespace from numpy and matplotlib\n"
     ]
    }
   ],
   "source": [
    "%load_ext autoreload\n",
    "%autoreload 2\n",
    "%matplotlib inline\n",
    "%pylab inline"
   ]
  },
  {
   "cell_type": "code",
   "execution_count": 2,
   "metadata": {
    "collapsed": true
   },
   "outputs": [],
   "source": [
    "import re\n",
    "import numpy as np"
   ]
  },
  {
   "cell_type": "code",
   "execution_count": 3,
   "metadata": {
    "collapsed": true
   },
   "outputs": [],
   "source": [
    "import matplotlib.pyplot as plt\n",
    "import pylab "
   ]
  },
  {
   "cell_type": "code",
   "execution_count": 4,
   "metadata": {
    "collapsed": false
   },
   "outputs": [
    {
     "name": "stderr",
     "output_type": "stream",
     "text": [
      "/home/thobotics/anaconda2/envs/tf14/lib/python3.5/site-packages/h5py/__init__.py:34: FutureWarning: Conversion of the second argument of issubdtype from `float` to `np.floating` is deprecated. In future, it will be treated as `np.float64 == np.dtype(float).type`.\n",
      "  from ._conv import register_converters as _register_converters\n"
     ]
    }
   ],
   "source": [
    "import sys\n",
    "import os\n",
    "import pickle\n",
    "sys.path.append(os.path.abspath(os.path.join(\"../\")))\n",
    "sys.path.append(os.path.abspath(os.path.join(\"../\", \"lib\", \"pysgmcmc/\")))\n",
    "\n",
    "import numpy as np\n",
    "import tensorflow as tf\n",
    "import matplotlib.pyplot as plt \n",
    "# import seaborn as sns\n",
    "from scipy.stats import multivariate_normal\n",
    "from mpl_toolkits.mplot3d import Axes3D\n",
    "\n",
    "# Training model\n",
    "from lib.utils.misc import *\n",
    "from lib.utils.env_helpers import get_env\n",
    "from models.continual_training_dyn import TrainingDynamics\n",
    "from lib.utils.rllab_env_rollout import IterativeData"
   ]
  },
  {
   "cell_type": "code",
   "execution_count": 5,
   "metadata": {
    "collapsed": true
   },
   "outputs": [],
   "source": [
    "## https://jonchar.net/notebooks/matplotlib-styling/\n",
    "from matplotlib import rc\n",
    "\n",
    "# Set the global font to be DejaVu Sans, size 10 (or any other sans-serif font of your choice!)\n",
    "rc('font',**{'family':'sans-serif','sans-serif':['DejaVu Sans'],'size':10})\n",
    "\n",
    "# Set the font used for MathJax - more on this later\n",
    "rc('mathtext',**{'default':'regular'})"
   ]
  },
  {
   "cell_type": "code",
   "execution_count": 6,
   "metadata": {
    "collapsed": true
   },
   "outputs": [],
   "source": [
    "\n",
    "%matplotlib inline\n",
    "\n",
    "# The following %config line changes the inline figures to have a higher DPI.\n",
    "# You can comment out (#) this line if you don't have a high-DPI (~220) display.\n",
    "%config InlineBackend.figure_format = 'retina'"
   ]
  },
  {
   "cell_type": "code",
   "execution_count": 7,
   "metadata": {
    "collapsed": true
   },
   "outputs": [],
   "source": [
    "old_trajectories, new_trajectories = pickle.load(open(\"./NIPS_DiffDrive_Traj.pkl\", \"rb\"))"
   ]
  },
  {
   "cell_type": "code",
   "execution_count": 9,
   "metadata": {
    "collapsed": false
   },
   "outputs": [
    {
     "data": {
      "image/png": "[encoded data removed]",
      "text/plain": [
       "<matplotlib.figure.Figure at 0x7f8ef36b00f0>"
      ]
     },
     "metadata": {
      "image/png": {
       "height": 195,
       "width": 323
      }
     },
     "output_type": "display_data"
    }
   ],
   "source": [
    "pylab.rcParams['figure.figsize'] = (5, 3)\n",
    "fig = pylab.figure()\n",
    "\n",
    "pylab.xlim([2.5, 6.5])\n",
    "pylab.ylim([-7.0, 7.0])\n",
    "\n",
    "arrows = [np.array([3.0, 0.0, np.pi]), np.array([6.0, -6.0, 0.0]), np.array([6.0, 6.0, 0.0])]\n",
    "colors = ['green', 'black', 'red']\n",
    "\n",
    "for pos, color in zip(arrows, colors):\n",
    "    pylab.quiver(pos[0], pos[1],\n",
    "               np.cos(pos[2]), np.sin(pos[2]), width=0.007,\n",
    "               color=color, alpha=1.0)\n",
    "    \n",
    "# plt.plot(old_trajectories[0, 0, :, 0], old_trajectories[0, 0, :, 1], color=\"gray\", alpha=0.5)\n",
    "pylab.plot(new_trajectories[0, 0, :, 0], new_trajectories[0, 0, :, 1], color=\"blue\")\n",
    "\n",
    "# pylab.grid()\n",
    "pylab.show()\n",
    "\n",
    "fig.savefig('NIPS_Toy_DiffDrive.png', dpi=300, bbox_inches='tight', transparent=False)"
   ]
  },
  {
   "cell_type": "code",
   "execution_count": null,
   "metadata": {
    "collapsed": true
   },
   "outputs": [],
   "source": []
  },
  {
   "cell_type": "code",
   "execution_count": null,
   "metadata": {
    "collapsed": true
   },
   "outputs": [],
   "source": []
  },
  {
   "cell_type": "code",
   "execution_count": null,
   "metadata": {
    "collapsed": false
   },
   "outputs": [],
   "source": [
    "old_trajectories = np.copy(trajectories)"
   ]
  },
  {
   "cell_type": "code",
   "execution_count": null,
   "metadata": {
    "collapsed": true
   },
   "outputs": [],
   "source": [
    "pickle.dump((old_trajectories, new_trajectories), open(\"./NIPS_DiffDrive_Traj.pkl\", \"wb\"))"
   ]
  },
  {
   "cell_type": "code",
   "execution_count": null,
   "metadata": {
    "collapsed": true
   },
   "outputs": [],
   "source": [
    "from policy.nn_policy import NNPolicy\n",
    "# from policy.nn_lstm_policy import NNPolicy\n",
    "\n",
    "# root_dir = \"../results/nips/toydomain/switching_lstm/continual_bnn_trpo/1\"\n",
    "root_dir = \"../results/nips/toydomain/origin_mlp/continual_bnn_trpo/0\"\n",
    "params_dir = \"%s/params.json\" % root_dir"
   ]
  },
  {
   "cell_type": "code",
   "execution_count": null,
   "metadata": {
    "collapsed": false
   },
   "outputs": [],
   "source": [
    "all_params = load_params(params_dir)\n",
    "# dump_params(all_params, output_dir)\n",
    "\n",
    "env = get_env(all_params[\"env\"])\n",
    "n_states = env.observation_space.shape[0]\n",
    "n_actions = env.action_space.shape[0]\n",
    "n_inputs = env.observation_space.shape[0] + env.action_space.shape[0]\n",
    "n_outputs = env.observation_space.shape[0]\n",
    "n_timestep = all_params[\"n_timestep\"]\n",
    "n_training = all_params[\"sample_train_size\"]\n",
    "n_validate = all_params[\"sample_valid_size\"]"
   ]
  },
  {
   "cell_type": "code",
   "execution_count": null,
   "metadata": {
    "collapsed": true
   },
   "outputs": [],
   "source": [
    "import logging\n",
    "logger = logging.getLogger()\n",
    "# logger.setLevel(logging.INFO)\n",
    "logger.setLevel(logging.DEBUG)\n",
    "\n",
    "tf.reset_default_graph()\n",
    "sess = tf.InteractiveSession()"
   ]
  },
  {
   "cell_type": "code",
   "execution_count": null,
   "metadata": {
    "collapsed": true
   },
   "outputs": [],
   "source": [
    "data_generator = IterativeData(n_states, n_actions, n_timestep,\n",
    "                                   n_training=n_training, n_validate=n_validate,\n",
    "                                   rollout_params=all_params[\"rollout_params\"])"
   ]
  },
  {
   "cell_type": "code",
   "execution_count": null,
   "metadata": {
    "collapsed": true
   },
   "outputs": [],
   "source": [
    "xu_training, y_training, xu_validate, y_validate = pickle.load(open(\"%s/rollout.pkl\"\n",
    "                                                                            % root_dir, \"rb\"))\n",
    "data_generator.set_offline(xu_training, y_training, xu_validate, y_validate)"
   ]
  },
  {
   "cell_type": "code",
   "execution_count": null,
   "metadata": {
    "collapsed": false
   },
   "outputs": [],
   "source": [
    "training = TrainingDynamics(n_inputs, n_outputs, n_timestep,\n",
    "                                action_bounds=env.action_space.bounds, session=sess,\n",
    "                                model_type=all_params[\"model\"],\n",
    "                                dynamic_params=all_params[\"dynamics_params\"],\n",
    "                                dynamic_opt_params=all_params[\"dynamics_opt_params\"])"
   ]
  },
  {
   "cell_type": "code",
   "execution_count": null,
   "metadata": {
    "collapsed": true
   },
   "outputs": [],
   "source": [
    "training.add_data(xu_training[:, :n_states], xu_training[:, n_states:], y_training)"
   ]
  },
  {
   "cell_type": "code",
   "execution_count": null,
   "metadata": {
    "collapsed": false
   },
   "outputs": [],
   "source": [
    "training.restore(root_dir)"
   ]
  },
  {
   "cell_type": "code",
   "execution_count": null,
   "metadata": {
    "collapsed": false
   },
   "outputs": [],
   "source": [
    "nn_policy = NNPolicy(sess, env, training, n_timestep, n_states, n_actions,\n",
    "                         log_dir=root_dir,\n",
    "                         policy_params=all_params[\"policy_params\"],\n",
    "                         policy_opt_params=all_params[\"policy_opt_params\"])"
   ]
  },
  {
   "cell_type": "code",
   "execution_count": null,
   "metadata": {
    "collapsed": false
   },
   "outputs": [],
   "source": [
    "nn_policy.policy_saver.restore(sess, os.path.join(root_dir, 'policy.ckpt'))\n",
    "# nn_policy.policy_saver.restore(sess, os.path.join(\"../results/nips/toydomain/switching_mlp/continual_bnn_trpo/0\", 'policy.ckpt'))\n",
    "# nn_policy.policy_saver.restore(sess, os.path.join(\"../results/nips/toydomain/origin_mlp/continual_bnn_trpo/0\", 'policy.ckpt'))"
   ]
  },
  {
   "cell_type": "raw",
   "metadata": {},
   "source": [
    "data_generator.plot_fictitious_traj(training, nn_policy)"
   ]
  },
  {
   "cell_type": "code",
   "execution_count": null,
   "metadata": {
    "collapsed": true
   },
   "outputs": [],
   "source": [
    "from lib.utils.env_helpers import *"
   ]
  },
  {
   "cell_type": "code",
   "execution_count": null,
   "metadata": {
    "collapsed": false
   },
   "outputs": [],
   "source": [
    "inits = nn_policy.policy_validation_init[:1]\n",
    "trajectories = np.zeros((training.model.n_nets, len(inits), n_timestep, n_states))\n",
    "real_trajectories = np.zeros((training.model.n_nets, len(inits), n_timestep, n_states))\n",
    "envs = [pickle.loads(pickle.dumps(env)) for _ in range(len(inits))]\n",
    "observations = reset_batch(envs, inits)\n",
    "\n",
    "for i in range(training.model.n_nets):\n",
    "\n",
    "    dones = np.asarray([True] * len(inits))\n",
    "\n",
    "    x = inits\n",
    "    _policy_cost = 0\n",
    "    nn_policy.training_policy.reset(dones)\n",
    "    observations = reset_batch(envs, inits)\n",
    "\n",
    "    for t in range(n_timestep):\n",
    "        u = np.clip(nn_policy.session_policy_out(x, stochastic=1.0), *nn_policy.env.action_space.bounds)\n",
    "\n",
    "        x_next, _ = training.predict(np.concatenate([x, u], axis=1),\n",
    "                                     return_individual_predictions=True,\n",
    "                                     model_idx=i)\n",
    "        x_real_next, _, _, _ = step_batch(envs, u)\n",
    "        \n",
    "        trajectories[i, :, t, :] = x_next\n",
    "        real_trajectories[i, :, t, :] = x_real_next\n",
    "\n",
    "        # Move forward 1 step.\n",
    "        x = x_next"
   ]
  },
  {
   "cell_type": "code",
   "execution_count": null,
   "metadata": {
    "collapsed": false
   },
   "outputs": [],
   "source": [
    "np.sum((trajectories - real_trajectories)**2)"
   ]
  },
  {
   "cell_type": "code",
   "execution_count": null,
   "metadata": {
    "collapsed": false
   },
   "outputs": [],
   "source": [
    "\"\"\" Plot trajectories \"\"\"\n",
    "\n",
    "minx = max(np.min(trajectories[:, :, :, 0]) - 0.5, -10.0)\n",
    "maxx = min(np.max(trajectories[:, :, :, 0]) + 0.5, 10.0)\n",
    "miny = max(np.min(trajectories[:, :, :, 1]) - 0.5, -10.0)\n",
    "maxy = min(np.max(trajectories[:, :, :, 1]) + 0.5, 10.0)\n",
    "\n",
    "plt.rcParams['figure.figsize'] = (8, 3)\n",
    "\n",
    "for i in range(trajectories.shape[0]):\n",
    "    fig = plt.figure()\n",
    "\n",
    "    plt.xlim([minx, maxx])\n",
    "    plt.ylim([miny, maxy])\n",
    "\n",
    "    color = ['green', 'k', 'yellow', 'cyan', \"blue\"]\n",
    "    color_idx = 0\n",
    "\n",
    "#     for n in range(trajectories.shape[1]):\n",
    "    for n in range(1):\n",
    "#         plt.quiver(trajectories[i, n, :, 0], trajectories[i, n, :, 1],\n",
    "#                    np.cos(trajectories[i, n, :, 2]), np.sin(trajectories[i, n, :, 2]), width=0.002,\n",
    "#                    color=\"blue\", alpha=1.0)\n",
    "# #         color_idx = (color_idx + 1) % len(color)\n",
    "        \n",
    "#         plt.quiver(real_trajectories[i, n, :, 0], real_trajectories[i, n, :, 1],\n",
    "#                    np.cos(real_trajectories[i, n, :, 2]), np.sin(real_trajectories[i, n, :, 2]), width=0.002,\n",
    "#                    color=\"black\", alpha=1.0)\n",
    "        plt.plot(trajectories[i, n, :, 0], trajectories[i, n, :, 1], color=\"blue\")\n",
    "        plt.plot(real_trajectories[i, n, :, 0], real_trajectories[i, n, :, 1], color=\"black\")\n",
    "#         color_idx = (color_idx + 1) % len(color)\n",
    "\n",
    "    plt.grid()\n",
    "    plt.show()\n",
    "\n",
    "#     if data_path is None:\n",
    "#         plt.grid()\n",
    "#         plt.show()\n",
    "#     else:\n",
    "#         fig.savefig(\"%s_m%02d.jpg\" % (data_path, i))\n",
    "#         logging.debug(\"Saved trajectories\")\n",
    "\n",
    "    plt.close()"
   ]
  },
  {
   "cell_type": "code",
   "execution_count": null,
   "metadata": {
    "collapsed": true
   },
   "outputs": [],
   "source": []
  }
 ],
 "metadata": {
  "kernelspec": {
   "display_name": "Python 3",
   "language": "python",
   "name": "python3"
  },
  "language_info": {
   "codemirror_mode": {
    "name": "ipython",
    "version": 3
   },
   "file_extension": ".py",
   "mimetype": "text/x-python",
   "name": "python",
   "nbconvert_exporter": "python",
   "pygments_lexer": "ipython3",
   "version": "3.5.2"
  },
  "widgets": {
   "state": {},
   "version": "1.1.2"
  }
 },
 "nbformat": 4,
 "nbformat_minor": 2
}
