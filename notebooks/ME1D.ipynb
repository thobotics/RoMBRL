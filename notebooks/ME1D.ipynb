{
 "cells": [
  {
   "cell_type": "code",
   "execution_count": 1,
   "metadata": {
    "collapsed": false
   },
   "outputs": [
    {
     "name": "stdout",
     "output_type": "stream",
     "text": [
      "Populating the interactive namespace from numpy and matplotlib\n"
     ]
    }
   ],
   "source": [
    "%load_ext autoreload\n",
    "%autoreload 2\n",
    "%matplotlib inline\n",
    "%pylab inline"
   ]
  },
  {
   "cell_type": "code",
   "execution_count": 2,
   "metadata": {
    "collapsed": false
   },
   "outputs": [
    {
     "name": "stderr",
     "output_type": "stream",
     "text": [
      "/home/anonymous/anaconda2/envs/tf14/lib/python3.5/site-packages/h5py/__init__.py:34: FutureWarning: Conversion of the second argument of issubdtype from `float` to `np.floating` is deprecated. In future, it will be treated as `np.float64 == np.dtype(float).type`.\n",
      "  from ._conv import register_converters as _register_converters\n"
     ]
    }
   ],
   "source": [
    "import sys\n",
    "import os\n",
    "import pickle\n",
    "sys.path.append(os.path.abspath(os.path.join(\"../\")))\n",
    "sys.path.append(os.path.abspath(os.path.join(\"../\", \"lib\", \"pysgmcmc/\")))\n",
    "\n",
    "import numpy as np\n",
    "import tensorflow as tf\n",
    "import matplotlib.pyplot as plt \n",
    "import seaborn as sns\n",
    "from scipy.stats import multivariate_normal\n",
    "from mpl_toolkits.mplot3d import Axes3D\n",
    "\n",
    "# Training model\n",
    "from models.continual_training_dyn import TrainingDynamics"
   ]
  },
  {
   "cell_type": "code",
   "execution_count": 3,
   "metadata": {
    "collapsed": true
   },
   "outputs": [],
   "source": [
    "def f(x):\n",
    "#     return (np.sin(x + 3) + np.sin(x/2) + 1)\n",
    "    return (np.sin(2*x + 2.6) + 0.75*np.sin(x))\n",
    "\n",
    "def generate_data(sample_size = 2000, seed=42,**kwargs):\n",
    "\n",
    "    rng = np.random.seed(seed)\n",
    "    \n",
    "    x = np.random.uniform(low=kwargs[\"low\"], high=kwargs[\"high\"], size=(sample_size))\n",
    "    y = f(x) # + np.random.normal(0, 0.0225*np.abs(sinus_model(x)), sample_size)\n",
    "    \n",
    "    return x, y"
   ]
  },
  {
   "cell_type": "code",
   "execution_count": 4,
   "metadata": {
    "collapsed": false
   },
   "outputs": [],
   "source": [
    "# Generate data\n",
    "# x_train, y_train = generate_data(5, low=0., high=3.)\n",
    "\n",
    "x_train = [0.5, 1.7, 3.8, 4.8, 5.5, 6.5, 7.8]\n",
    "# x_train = [0.2, 2.0, 3.5, 4.8, 5.5, 6.8, 7.8]\n",
    "# x_train = [0.2, 1.0, 2.0, 3.5, 4.8, 5.5, 6.8, 7.8]\n",
    "y_train = [f(x) for x in x_train]\n",
    "\n",
    "x_train, y_train = np.array(x_train), np.array(y_train)\n",
    "\n",
    "x_validate = np.arange(0., 10., 0.01)\n",
    "y_validate = f(x_validate)\n",
    "\n",
    "# Convert to matrix\n",
    "x_train = x_train[:, np.newaxis]\n",
    "y_train = y_train[:, np.newaxis]\n",
    "\n",
    "x_validate = x_validate[:, np.newaxis]\n",
    "y_validate = y_validate[:, np.newaxis]"
   ]
  },
  {
   "cell_type": "code",
   "execution_count": 5,
   "metadata": {
    "collapsed": false
   },
   "outputs": [
    {
     "data": {
      "image/png": "[encoded data removed]",
      "text/plain": [
       "<matplotlib.figure.Figure at 0x7fa4969dfef0>"
      ]
     },
     "metadata": {},
     "output_type": "display_data"
    }
   ],
   "source": [
    "def plot_model(x_tr=None, y_tr=None):\n",
    "    \n",
    "    # Setup state for plotting\n",
    "    plt.rcParams['figure.figsize'] = (10, 5)               \n",
    "    fig = plt.figure()\n",
    "    \n",
    "    plt.plot(x_validate, y_validate, 'r', label = '$m$')\n",
    "    plt.scatter(x_train, y_train, color = 'blue', s = 15.5)\n",
    "    \n",
    "    if x_tr is not None:\n",
    "        plt.scatter(x_tr, y_tr, color = 'k', s = 1.5)\n",
    "    \n",
    "    plt.xlim([-0., 8.])\n",
    "    plt.ylim([-2., 2.0])\n",
    "\n",
    "    plt.grid()\n",
    "    plt.show()\n",
    "    \n",
    "plot_model()"
   ]
  },
  {
   "cell_type": "code",
   "execution_count": 6,
   "metadata": {
    "collapsed": true
   },
   "outputs": [],
   "source": [
    "dynamics_params = {\n",
    "    \"n_nets\": 5,\n",
    "    \"hidden_layers\": [\n",
    "        50,\n",
    "        50\n",
    "    ],\n",
    "#     \"nonlinearity\": [\n",
    "#         \"tf.nn.relu\",\n",
    "#         \"tf.nn.relu\"\n",
    "#     ]\n",
    "    \"nonlinearity\": [\n",
    "        \"tf.tanh\",\n",
    "        \"tf.tanh\"\n",
    "    ]\n",
    "}\n",
    "\n",
    "dynamics_opt_params = {\n",
    "    \"batch_size\": 5,\n",
    "    \"scale\": 0.1,\n",
    "    \"a0\": 1.0,\n",
    "    \"b0\": 0.1,\n",
    "    \"a1\": 1.0,\n",
    "    \"b1\": 5.0,\n",
    "    \"bnn\": {\n",
    "      \"run_normal\": True,\n",
    "      \"normal_step_size\": 1.0e-3,\n",
    "      \"normal_max_iters\": 1000,\n",
    "      \"step_size\": 1.0e-3,\n",
    "      \"mdecay\": 0.05,\n",
    "      \"burn_in_steps\": 1000,\n",
    "      \"max_passes\": 100000,\n",
    "      \"sample_steps\": 50\n",
    "    },\n",
    "    \"me\": {\n",
    "      \"normal_max_iters\": 10000,\n",
    "      \"step_size\": 1.0e-3\n",
    "    },\n",
    "    \"log_every\": 5,\n",
    "    \"num_passes_threshold\": 25\n",
    "}"
   ]
  },
  {
   "cell_type": "code",
   "execution_count": 7,
   "metadata": {
    "collapsed": false
   },
   "outputs": [
    {
     "name": "stderr",
     "output_type": "stream",
     "text": [
      "DEBUG:root:num_training_dynamics_adam_variables 90\n"
     ]
    }
   ],
   "source": [
    "import logging\n",
    "logger = logging.getLogger()\n",
    "# logger.setLevel(logging.INFO)\n",
    "logger.setLevel(logging.DEBUG)\n",
    "\n",
    "tf.reset_default_graph()\n",
    "\n",
    "# Create model\n",
    "n_timestep = 1\n",
    "n_inputs  = 1\n",
    "n_outputs = 1\n",
    "\n",
    "training = TrainingDynamics(n_inputs, n_outputs, n_timestep, action_bounds=([-1., -1.57], [1., 1.57]),\n",
    "                          model_type=\"ME\", dynamic_params=dynamics_params, dynamic_opt_params=dynamics_opt_params)"
   ]
  },
  {
   "cell_type": "code",
   "execution_count": 8,
   "metadata": {
    "collapsed": false
   },
   "outputs": [],
   "source": [
    "# Add data\n",
    "u_train = np.array([]).reshape(x_train.shape[0], 0)\n",
    "training.add_data(x_train, u_train, y_train)"
   ]
  },
  {
   "cell_type": "code",
   "execution_count": 9,
   "metadata": {
    "collapsed": false,
    "scrolled": true
   },
   "outputs": [
    {
     "name": "stderr",
     "output_type": "stream",
     "text": [
      "INFO:root:Reinitialize dynamics Adam\n",
      "INFO:root:Start Training\n",
      "INFO:root:Iter        0 : \n",
      "\tNLL     = [569.0781, 758.9645, 826.601, 597.9915, 825.5867] \n",
      "\tNLL_val = [943.0819, 1161.21, 1251.0396, 975.1985, 1268.4739] \n",
      "\tMSE     = [114.08369, 152.06201, 165.63777, 119.841446, 165.43552] \n",
      "\tMSE_val = [189.03496, 232.70393, 250.6881, 195.46443, 254.17845] \n",
      "Time =  0.93\n",
      "INFO:root:Iter      250 : \n",
      "\tNLL     = [161.73892, 106.39351, 185.45592, 98.63834, 246.40541] \n",
      "\tNLL_val = [430.00598, 411.06494, 461.82642, 404.47806, 512.2538] \n",
      "\tMSE     = [39.60163, 25.535147, 45.226078, 23.835009, 60.26828] \n",
      "\tMSE_val = [105.08949, 98.374, 112.457054, 97.39802, 125.19475] \n",
      "Time =  4.83\n",
      "INFO:root:Iter      500 : \n",
      "\tNLL     = [36.395107, 27.867744, 32.714306, 35.744476, 50.93683] \n",
      "\tNLL_val = [370.66687, 341.68066, 387.17273, 414.99924, 366.01724] \n",
      "\tMSE     = [9.748994, 7.155209, 8.749593, 9.245687, 13.98635] \n",
      "\tMSE_val = [97.76149, 86.13069, 101.73888, 105.78829, 99.49159] \n",
      "Time =  8.69\n",
      "INFO:root:Iter      750 : \n",
      "\tNLL     = [19.704424, 18.063559, 22.167372, 23.698414, 29.710785] \n",
      "\tNLL_val = [327.49677, 300.38644, 338.39517, 358.64044, 384.31787] \n",
      "\tMSE     = [5.4961514, 4.7908716, 6.124321, 6.3749475, 8.506629] \n",
      "\tMSE_val = [88.6604, 77.27975, 91.05018, 94.25677, 107.974335] \n",
      "Time = 12.60\n",
      "INFO:root:Iter     1000 : \n",
      "\tNLL     = [10.98526, 9.981809, 14.861398, 15.6872, 19.004597] \n",
      "\tNLL_val = [269.92935, 256.1209, 294.12897, 308.49594, 335.79578] \n",
      "\tMSE     = [3.1931608, 2.7601433, 4.2362, 4.373993, 5.6309395] \n",
      "\tMSE_val = [74.3326, 66.85039, 80.573715, 82.95055, 96.553185] \n",
      "Time = 16.44\n",
      "INFO:root:Iter     1250 : \n",
      "\tNLL     = [6.8317127, 5.740691, 9.7735615, 9.947599, 11.0992985] \n",
      "\tNLL_val = [228.93204, 225.25153, 250.21939, 257.98096, 266.59134] \n",
      "\tMSE     = [2.0738204, 1.6782925, 2.8841548, 2.8845313, 3.4131126] \n",
      "\tMSE_val = [63.740627, 59.482513, 69.51106, 70.58117, 77.859375] \n",
      "Time = 20.34\n",
      "INFO:root:Iter     1500 : \n",
      "\tNLL     = [5.9825687, 3.654502, 7.0209975, 6.631876, 7.026725] \n",
      "\tNLL_val = [211.77739, 206.52379, 227.99753, 232.65729, 231.47743] \n",
      "\tMSE     = [1.8513012, 1.1400082, 2.1437325, 2.0091064, 2.2493424] \n",
      "\tMSE_val = [59.423985, 54.974792, 64.029564, 64.573746, 68.324745] \n",
      "Time = 24.24\n",
      "INFO:root:Iter     1750 : \n",
      "\tNLL     = [3.0187361, 3.5867503, 4.9421906, 6.398582, 5.674717] \n",
      "\tNLL_val = [207.48854, 195.52708, 213.57607, 222.32126, 223.462] \n",
      "\tMSE     = [1.029386, 1.1289828, 1.5765945, 1.9660813, 1.8668467] \n",
      "\tMSE_val = [58.601345, 52.332996, 60.58139, 62.394344, 66.53593] \n",
      "Time = 28.11\n",
      "INFO:root:Iter     2000 : \n",
      "\tNLL     = [1.962803, 0.84180605, 4.5633216, 3.6202757, 3.055716] \n",
      "\tNLL_val = [195.5636, 186.37173, 202.022, 205.5287, 199.54776] \n",
      "\tMSE     = [0.7355134, 0.4001945, 1.4802643, 1.2004927, 1.0956336] \n",
      "\tMSE_val = [55.512165, 50.071304, 57.76797, 58.22894, 59.76903] \n",
      "Time = 32.11\n",
      "INFO:root:Iter     2250 : \n",
      "\tNLL     = [1.6386721, -0.056226045, 2.375297, 2.8394175, 1.9284962] \n",
      "\tNLL_val = [189.66557, 180.11801, 195.013, 199.59706, 191.60448] \n",
      "\tMSE     = [0.6456447, 0.16103029, 0.8627056, 0.98701966, 0.7623615] \n",
      "\tMSE_val = [54.016647, 48.46189, 56.155804, 56.95682, 57.648567] \n",
      "Time = 36.02\n",
      "INFO:root:Iter     2500 : \n",
      "\tNLL     = [0.09913933, -0.4443016, 2.103247, 1.4019533, 1.4273297] \n",
      "\tNLL_val = [182.85143, 175.98563, 187.85135, 194.8782, 184.66023] \n",
      "\tMSE     = [0.20953645, 0.057713795, 0.7878872, 0.58182555, 0.6135927] \n",
      "\tMSE_val = [52.145733, 47.325363, 54.356495, 55.934555, 55.714092] \n",
      "Time = 40.07\n",
      "INFO:root:Iter     2750 : \n",
      "\tNLL     = [-0.41512498, -0.62358755, 0.6723565, 0.5946108, 0.024568766] \n",
      "\tNLL_val = [179.60704, 173.83449, 183.4001, 187.59877, 177.95792] \n",
      "\tMSE     = [0.06367919, 0.010238661, 0.3766307, 0.3522401, 0.1925906] \n",
      "\tMSE_val = [51.198208, 46.675392, 53.21078, 54.033714, 53.75776] \n",
      "Time = 44.78\n",
      "INFO:root:Iter     3000 : \n",
      "\tNLL     = [-0.5724814, -0.65819716, -0.121281445, -0.15704405, -0.37255374] \n",
      "\tNLL_val = [175.33995, 172.8077, 179.87433, 185.95055, 176.60213] \n",
      "\tMSE     = [0.019217437, 0.0014218645, 0.147596, 0.13699195, 0.07328057] \n",
      "\tMSE_val = [49.90709, 46.298203, 52.233063, 53.60948, 53.325615] \n",
      "Time = 50.00\n",
      "INFO:root:Iter     3250 : \n",
      "\tNLL     = [-0.63051677, -0.6640787, -0.4279111, -0.40510488, -0.57884353] \n",
      "\tNLL_val = [173.11574, 172.69695, 176.15765, 181.98961, 173.07446] \n",
      "\tMSE     = [0.0030389768, 0.00024061928, 0.059089195, 0.06597834, 0.011494466] \n",
      "\tMSE_val = [49.16603, 46.14818, 51.104626, 52.399265, 52.183815] \n",
      "Time = 55.50\n",
      "INFO:root:Iter     3500 : \n",
      "\tNLL     = [-0.6409301, -0.6663264, -0.5850614, -0.5912151, -0.6125121] \n",
      "\tNLL_val = [172.68149, 173.03986, 174.5633, 180.87173, 172.44038] \n",
      "\tMSE     = [0.00039882664, 1.6650933e-05, 0.01395846, 0.01297707, 0.001653061] \n",
      "\tMSE_val = [48.912296, 46.10186, 50.53922, 51.941402, 51.882965] \n",
      "Time = 61.09\n",
      "INFO:root:Iter     3750 : \n",
      "\tNLL     = [-0.6434301, -0.6678382, -0.62657654, -0.63052887, -0.618346] \n",
      "\tNLL_val = [172.83908, 173.57213, 173.36626, 180.18462, 172.30815] \n",
      "\tMSE     = [3.9320246e-05, 5.9769945e-07, 0.0023108732, 0.0021491593, 0.00020930034] \n",
      "\tMSE_val = [48.806896, 46.086536, 50.059067, 51.5668, 51.7142] \n",
      "Time = 66.70\n",
      "INFO:root:Iter     4000 : \n",
      "\tNLL     = [-0.6449491, -0.6694069, -0.6350368, -0.6387112, -0.6201239] \n",
      "\tNLL_val = [173.27708, 174.23135, 173.3652, 180.28629, 172.55736] \n",
      "\tMSE     = [3.160739e-06, 2.0414527e-08, 0.00024706413, 0.00028691257, 2.2778153e-05] \n",
      "\tMSE_val = [48.759716, 46.08307, 49.8998, 51.38687, 51.64137] \n",
      "Time = 72.25\n",
      "INFO:root:Iter     4250 : \n",
      "\tNLL     = [-0.6465366, -0.67114216, -0.63727105, -0.6415039, -0.6215054] \n",
      "\tNLL_val = [173.91667, 174.99556, 173.72697, 180.95229, 173.08842] \n",
      "\tMSE     = [1.3313974e-07, 8.789373e-10, 2.4419805e-05, 2.180455e-05, 1.1642678e-06] \n",
      "\tMSE_val = [48.745613, 46.082603, 49.82205, 51.337612, 51.632286] \n",
      "Time = 77.87\n",
      "INFO:root:Iter     4500 : \n",
      "\tNLL     = [-0.64832294, -0.67308825, -0.6390037, -0.64367557, -0.6229929] \n",
      "\tNLL_val = [174.6921, 175.86832, 174.36963, 181.83005, 173.7089] \n",
      "\tMSE     = [4.683094e-09, 2.8844788e-10, 1.3094567e-06, 1.539917e-06, 4.594505e-08] \n",
      "\tMSE_val = [48.74272, 46.082687, 49.799633, 51.3152, 51.626724] \n",
      "Time = 83.43\n",
      "INFO:root:Iter     4750 : \n",
      "\tNLL     = [-0.6503446, -0.675283, -0.64087856, -0.64605474, -0.6246736] \n",
      "\tNLL_val = [175.58487, 176.8629, 175.1706, 182.89946, 174.4345] \n",
      "\tMSE     = [3.9287734e-10, 3.8079406e-10, 5.989449e-08, 1.2727675e-07, 2.1163373e-09] \n",
      "\tMSE_val = [48.742126, 46.082813, 49.7939, 51.30924, 51.62613] \n",
      "Time = 89.03\n",
      "INFO:root:Iter     5000 : \n",
      "\tNLL     = [-0.65263134, -0.67776126, -0.6429949, -0.6487389, -0.6265758] \n",
      "\tNLL_val = [176.60397, 177.99577, 176.10202, 184.13887, 175.26236] \n",
      "\tMSE     = [1.9152172e-10, 1.0031239e-10, 1.7511427e-09, 3.6339267e-09, 5.6464194e-10] \n",
      "\tMSE_val = [48.74209, 46.08296, 49.792908, 51.308228, 51.626064] \n",
      "Time = 94.55\n",
      "INFO:root:Iter     5250 : \n",
      "\tNLL     = [-0.65521646, -0.68056035, -0.6453883, -0.65177107, -0.6287281] \n",
      "\tNLL_val = [177.76518, 179.28706, 177.16664, 185.55527, 176.20525] \n",
      "\tMSE     = [5.4577804e-11, 3.9843176e-10, 4.0038067e-10, 2.79223e-10, 1.6693288e-10] \n",
      "\tMSE_val = [48.7421, 46.0832, 49.792843, 51.30799, 51.626072] \n",
      "Time = 98.90\n",
      "INFO:root:Iter     5500 : \n",
      "\tNLL     = [-0.6581367, -0.68372, -0.64809316, -0.6551943, -0.6311618] \n",
      "\tNLL_val = [179.08852, 180.75919, 178.37978, 187.17172, 177.27922] \n",
      "\tMSE     = [6.698591e-11, 1.1155115e-10, 8.845648e-11, 1.4819079e-10, 2.4732572e-10] \n",
      "\tMSE_val = [48.742073, 46.0834, 49.79282, 51.30795, 51.626144] \n",
      "Time = 102.81\n",
      "INFO:root:Iter     5750 : \n",
      "\tNLL     = [-0.6614335, -0.68728364, -0.6511482, -0.6590559, -0.633912] \n",
      "\tNLL_val = [180.59752, 182.4384, 179.76288, 189.01672, 178.5028] \n",
      "\tMSE     = [9.677186e-11, 2.56713e-10, 1.017416e-10, 6.0522e-11, 1.1522161e-10] \n",
      "\tMSE_val = [48.74207, 46.083668, 49.79288, 51.307903, 51.62624] \n",
      "Time = 106.70\n",
      "INFO:root:Iter     6000 : \n",
      "\tNLL     = [-0.66515243, -0.6912997, -0.6545962, -0.6634084, -0.6370183] \n",
      "\tNLL_val = [182.31944, 184.3552, 181.33987, 191.12405, 179.89734] \n",
      "\tMSE     = [6.596516e-10, 1.2889652e-10, 8.0271026e-11, 6.679102e-11, 1.740789e-10] \n",
      "\tMSE_val = [48.74211, 46.08402, 49.79287, 51.30789, 51.626316] \n",
      "Time = 110.58\n",
      "INFO:root:Iter     6250 : \n",
      "\tNLL     = [-0.6693442, -0.69582105, -0.65848505, -0.66830933, -0.6405245] \n",
      "\tNLL_val = [184.28482, 186.5446, 183.13959, 193.53284, 181.4879] \n",
      "\tMSE     = [1.0979712e-10, 7.6603e-10, 9.300395e-11, 6.5296844e-11, 1.5436237e-10] \n",
      "\tMSE_val = [48.742004, 46.084396, 49.792862, 51.307873, 51.62643] \n",
      "Time = 114.47\n",
      "INFO:root:Iter     6500 : \n",
      "\tNLL     = [-0.67406416, -0.7009053, -0.66286725, -0.6738223, -0.6444793] \n",
      "\tNLL_val = [186.53096, 189.04706, 185.19516, 196.28905, 183.30324] \n",
      "\tMSE     = [1.6579602e-10, 1.0697095e-08, 2.874734e-10, 1.3506808e-10, 1.8333626e-10] \n",
      "\tMSE_val = [48.74204, 46.08478, 49.792942, 51.307884, 51.62658] \n",
      "Time = 118.33\n",
      "INFO:root:Iter     6750 : \n",
      "\tNLL     = [-0.6793741, -0.7066164, -0.6678009, -0.6800156, -0.6489365] \n",
      "\tNLL_val = [189.09949, 191.91122, 187.54453, 199.4455, 185.37643] \n",
      "\tMSE     = [1.1083655e-10, 1.4216782e-09, 8.485098e-11, 7.4034494e-11, 2.2669967e-10] \n",
      "\tMSE_val = [48.741978, 46.085415, 49.79299, 51.307835, 51.62668] \n",
      "Time = 122.84\n",
      "INFO:root:Iter     7000 : \n",
      "\tNLL     = [-0.68533933, -0.71301866, -0.67334974, -0.686963, -0.6539558] \n",
      "\tNLL_val = [192.04012, 195.193, 190.23265, 203.06528, 187.74638] \n",
      "\tMSE     = [2.3049924e-09, 5.7269165e-07, 2.5026776e-09, 3.299785e-09, 1.274673e-10] \n",
      "\tMSE_val = [48.74204, 46.08643, 49.793114, 51.308014, 51.626755] \n",
      "Time = 127.66\n",
      "INFO:root:Iter     7250 : \n",
      "\tNLL     = [-0.69203126, -0.71953976, -0.6795825, -0.6947435, -0.65960205] \n",
      "\tNLL_val = [195.40135, 199.58754, 193.31117, 207.21927, 190.45833] \n",
      "\tMSE     = [2.1873231e-07, 0.000111337, 1.1027339e-08, 2.3144122e-09, 1.5351053e-09] \n",
      "\tMSE_val = [48.739925, 46.253895, 49.79325, 51.307865, 51.62686] \n",
      "Time = 133.18\n",
      "INFO:root:Iter     7500 : \n",
      "\tNLL     = [-0.699161, -0.6833096, -0.68657327, -0.70343965, -0.6659461] \n",
      "\tNLL_val = [199.86899, 204.59833, 196.84029, 211.99513, 193.5652] \n",
      "\tMSE     = [3.6399488e-05, 0.010086686, 1.6685411e-09, 1.864862e-09, 5.237147e-10] \n",
      "\tMSE_val = [48.914127, 46.41119, 49.793255, 51.307995, 51.627018] \n",
      "Time = 138.74\n",
      "INFO:root:Iter     7750 : \n",
      "\tNLL     = [-0.70768523, -0.7368622, -0.69430554, -0.7131217, -0.67306405] \n",
      "\tNLL_val = [204.48184, 209.21233, 200.88156, 217.50893, 197.12811] \n",
      "\tMSE     = [4.898847e-07, 2.7248175e-06, 2.364308e-05, 3.5312476e-06, 1.4932036e-09] \n",
      "\tMSE_val = [48.952553, 46.337273, 49.79079, 51.31202, 51.627136] \n",
      "Time = 144.33\n",
      "INFO:root:Iter     8000 : \n",
      "\tNLL     = [-0.71690804, -0.7268332, -0.7030888, -0.72391576, -0.681038] \n",
      "\tNLL_val = [209.66447, 215.0027, 205.52219, 223.83577, 201.22006] \n",
      "\tMSE     = [2.9618852e-05, 0.0042744135, 1.4481458e-05, 1.0973047e-06, 2.2827098e-09] \n",
      "\tMSE_val = [48.96547, 46.35561, 49.787045, 51.309834, 51.62733] \n",
      "Time = 149.89\n",
      "INFO:root:Iter     8250 : \n",
      "\tNLL     = [-0.71632624, -0.663399, -0.32831722, -0.72977614, -0.6894384] \n",
      "\tNLL_val = [219.42387, 223.44461, 211.07413, 236.23172, 206.18515] \n",
      "\tMSE     = [0.002220063, 0.019562528, 0.09034137, 0.00040657172, 0.00012834516] \n",
      "\tMSE_val = [50.011814, 46.802315, 49.925922, 53.03825, 51.692352] \n",
      "Time = 155.42\n",
      "INFO:root:Iter     8500 : \n",
      "\tNLL     = [-0.7376354, -0.76753, -0.72219586, -0.7448573, -0.6995062] \n",
      "\tNLL_val = [224.07567, 233.25926, 220.35883, 245.04459, 212.1681] \n",
      "\tMSE     = [1.1739506e-08, 3.2501146e-05, 7.7420855e-06, 5.2710682e-08, 6.80472e-07] \n",
      "\tMSE_val = [49.51313, 47.45956, 50.74427, 53.073936, 51.88061] \n",
      "Time = 161.03\n",
      "INFO:root:Iter     8750 : \n",
      "\tNLL     = [-0.75042355, -0.780944, -0.7342879, -0.7594838, -0.71058226] \n",
      "\tNLL_val = [232.02054, 242.44327, 227.63965, 255.08882, 218.41437] \n",
      "\tMSE     = [1.501722e-10, 3.5466765e-06, 9.781128e-11, 1.0096203e-10, 9.971578e-09] \n",
      "\tMSE_val = [49.51198, 47.518944, 50.7502, 53.072666, 51.873596] \n",
      "Time = 166.56\n",
      "INFO:root:Iter     9000 : \n",
      "\tNLL     = [-0.76449025, -0.795651, -0.7476019, -0.77547574, -0.72286284] \n",
      "\tNLL_val = [241.21556, 252.92146, 236.02916, 266.73642, 225.65508] \n",
      "\tMSE     = [1.6975466e-08, 1.3638279e-09, 9.371125e-10, 3.990546e-09, 9.383696e-08] \n",
      "\tMSE_val = [49.51151, 47.5321, 50.75031, 53.07191, 51.871704] \n",
      "Time = 172.15\n",
      "INFO:root:Iter     9250 : \n",
      "\tNLL     = [-0.77897525, -0.81160057, -0.7622336, -0.7928446, 1.5112559] \n",
      "\tNLL_val = [251.87326, 264.97495, 245.74312, 280.2555, 260.1193] \n",
      "\tMSE     = [0.00016822845, 2.597395e-09, 4.827917e-08, 7.858197e-11, 0.5018168] \n",
      "\tMSE_val = [49.518898, 47.53301, 50.75046, 53.071827, 58.45663] \n",
      "Time = 177.32\n",
      "INFO:root:Iter     9500 : \n",
      "\tNLL     = [-0.79247785, -0.82877445, -0.7714462, -0.8115597, -0.73932445] \n",
      "\tNLL_val = [265.90262, 278.98126, 256.84604, 295.9478, 246.05577] \n",
      "\tMSE     = [0.0006069136, 1.3242321e-06, 0.0012100512, 1.3916081e-10, 1.0529293e-08] \n",
      "\tMSE_val = [49.95327, 47.54303, 50.810062, 53.071358, 54.09717] \n",
      "Time = 181.20\n",
      "INFO:root:Iter     9750 : \n",
      "\tNLL     = [-0.8125167, -0.7235109, -0.7804955, -0.8311876, -0.7558906] \n",
      "\tNLL_val = [280.84488, 297.58975, 276.95343, 314.01224, 257.4566] \n",
      "\tMSE     = [3.986827e-07, 0.019817855, 0.0023496938, 5.773486e-05, 7.923161e-11] \n",
      "\tMSE_val = [50.234394, 47.953167, 52.431923, 53.04599, 54.095867] \n",
      "Time = 185.13\n",
      "INFO:root:Iter    10000 : \n",
      "\tNLL     = [-0.83193207, -0.8587954, -0.811388, -0.76439184, -0.7739221] \n",
      "\tNLL_val = [297.59467, 313.26053, 287.8903, 333.40738, 270.71436] \n",
      "\tMSE     = [1.1244041e-06, 0.00015498938, 6.735205e-05, 0.01132411, 7.195565e-11] \n",
      "\tMSE_val = [50.223625, 48.483376, 51.601166, 56.273495, 54.09563] \n",
      "Time = 189.03\n"
     ]
    }
   ],
   "source": [
    "training.run(x_validate, y_validate, params=dynamics_opt_params)"
   ]
  },
  {
   "cell_type": "code",
   "execution_count": 10,
   "metadata": {
    "collapsed": false
   },
   "outputs": [
    {
     "data": {
      "image/png": "[encoded data removed]",
      "text/plain": [
       "<matplotlib.figure.Figure at 0x7fa42eea4278>"
      ]
     },
     "metadata": {},
     "output_type": "display_data"
    }
   ],
   "source": [
    "def plot_bnn_model(x_new=None, y_new=None):\n",
    "    \n",
    "    # Setup state for plotting\n",
    "    plt.rcParams['figure.figsize'] = (10, 5)               \n",
    "    fig = plt.figure()\n",
    "\n",
    "    color = ['green', 'k', 'yellow', 'cyan', \"blue\"]\n",
    "    \n",
    "    for i in range(training.model.n_nets):\n",
    "        y_pred, _ = training.predict(x_validate, return_individual_predictions=True, model_idx=i)\n",
    "        plt.plot(x_validate, y_pred, color[i % 5], alpha=1.0)\n",
    "        \n",
    "    pylab.plot(x_validate, y_validate, 'r', label = '$m$')\n",
    "    plt.scatter(training.xu, training.y, color='blue', s=50.5)\n",
    "    \n",
    "    if x_new is not None:\n",
    "        plt.scatter(x_new, y_new, color='black', s=50.5)\n",
    "    \n",
    "    # Plot last model\n",
    "    # y_pred, _ = training.predict(x_validate, normal=True, return_individual_predictions=True, model_idx=training.model.n_nets-1)\n",
    "    # plt.plot(x_validate, y_pred, \"black\", alpha=1.0, linewidth=3)\n",
    "    \n",
    "    plt.xlim([-0., 8.])\n",
    "    plt.ylim([-2., 2.0])\n",
    "\n",
    "    plt.grid()\n",
    "    plt.show()\n",
    "        \n",
    "plot_bnn_model()"
   ]
  },
  {
   "cell_type": "raw",
   "metadata": {
    "collapsed": false
   },
   "source": [
    "import pickle\n",
    "y_preds = []\n",
    "for i in range(training.model.n_nets):\n",
    "    y_pred, _ = training.predict(x_validate, return_individual_predictions=True, model_idx=i)\n",
    "    y_preds.append(y_pred)\n",
    "\n",
    "pickle.dump((x_validate, y_validate, y_preds), open(\"./ME5.pkl\", \"wb\"))"
   ]
  },
  {
   "cell_type": "raw",
   "metadata": {},
   "source": [
    "x_validate, y_validate, y_preds = pickle.load(open(\"./ME20.pkl\", \"rb\"))"
   ]
  },
  {
   "cell_type": "markdown",
   "metadata": {},
   "source": [
    "## Next"
   ]
  },
  {
   "cell_type": "raw",
   "metadata": {
    "collapsed": true
   },
   "source": [
    "x_train, y_train = generate_data(5, low=6., high=9.)\n",
    "x_train = x_train[:, np.newaxis]\n",
    "y_train = y_train[:, np.newaxis]\n",
    "\n",
    "u_train = np.array([]).reshape(x_train.shape[0], 0)\n",
    "training.add_data(x_train, u_train, y_train)\n",
    "\n",
    "training.run(x_validate, y_validate, params=dynamics_opt_params)\n",
    "plot_bnn_model()"
   ]
  },
  {
   "cell_type": "code",
   "execution_count": null,
   "metadata": {
    "collapsed": true
   },
   "outputs": [],
   "source": []
  }
 ],
 "metadata": {
  "kernelspec": {
   "display_name": "Python 3",
   "language": "python",
   "name": "python3"
  },
  "language_info": {
   "codemirror_mode": {
    "name": "ipython",
    "version": 3
   },
   "file_extension": ".py",
   "mimetype": "text/x-python",
   "name": "python",
   "nbconvert_exporter": "python",
   "pygments_lexer": "ipython3",
   "version": "3.5.2"
  },
  "widgets": {
   "state": {},
   "version": "1.1.2"
  }
 },
 "nbformat": 4,
 "nbformat_minor": 2
}
